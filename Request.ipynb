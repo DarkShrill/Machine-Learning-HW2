{
  "nbformat": 4,
  "nbformat_minor": 0,
  "metadata": {
    "colab": {
      "name": "ML6. Homework 2",
      "provenance": [],
      "collapsed_sections": []
    },
    "kernelspec": {
      "name": "python3",
      "display_name": "Python 3"
    }
  },
  "cells": [
    {
      "cell_type": "markdown",
      "metadata": {
        "id": "v3lIL_loMq66"
      },
      "source": [
        "# Homework 2: RoboCup@Home Object Classification\n",
        "\n",
        "This homework aims at solving an image classification problem with objects typically available in a home environment. To this end, we will use the \n",
        "[RoboCup@Home-Objects dataset](https://sites.google.com/diag.uniroma1.it/robocupathome-objects/home) that has been developed within the [RoboCup@Home](https://athome.robocup.org) competition.\n",
        "\n",
        "Each student will solve a personalized 8-classes classification problem (as a subset of the entire dataset), depending on his/her matricola code.\n",
        "\n",
        "To generate your dataset, follow these steps:\n",
        "\n",
        "1) Duplicate this Colab and put your matricola number in the piece of code below (replacing the ERROR string)\n",
        "\n",
        "2) Run the code and take note of the 8 printed labels \n",
        "\n",
        "3) Download the corresponding 8 ZIP files from this folder\n",
        "\n",
        "https://drive.google.com/drive/folders/1dL4OZRPLahq6aSgWxk9efmFbfoy1Vp0I\n",
        "\n",
        "4) Use images in these 8 ZIP files as dataset for your 8-classes image classification problem\n"
      ]
    },
    {
      "cell_type": "code",
      "metadata": {
        "id": "7yhiNZPW3jjY"
      },
      "source": [
        "labels = {\n",
        "  'containers': [ 'food_tray', 'glass_container', 'serving_tray', 'disposable_container', 'plastic_tray', 'grocery_bag', 'decorative_tray', 'reusable_bag', 'plastic_bag', 'paper_bag', 'food_banister', 'basket_container', 'glass_tray', 'colored_paper_bag', 'plastic_food_container', 'glass_food_container', 'plastic_container',  ],\n",
        "  'tableware': [ 'pasta_bowl', 'teacup', 'snack_bowl', 'espresso_cup', 'accent_plate', 'beer_glasses', 'cereal_bowl', 'water_glasses', 'dessert_plate', 'soup_bowl', 'side_dish_plate', 'rice_bowl', 'salad_plate', 'salad_bowl', 'buillin_cup', 'fruit_plate', 'saucer_cup', 'coffee_mug', 'dessert_bowl', 'coffee_cup', 'dinner_plate', 'sushi_plate', 'wine_glasses',  ],\n",
        "  'drinks': [ 'Cocoa_drink_bottle', 'juice_carton', 'Coffee_drink_bottle', 'Flavored_Water', 'Tonic_Water', 'Tea_drink_bottle', 'Sparkling_Water', 'Juice_bottle', 'Seltzer_Water', 'Mineral_Water', 'Sports_Drinking_Water', 'juice_box', 'Soft_Drink_can', 'iced_tea', 'Energy_Drink', 'chocolate_drink_bottle', 'soft_drink_bottle',  ],\n",
        "  'cutlery': [ 'Knives', 'chopsticks', 'plastic_fork', 'carving_knife_fork', 'Forks', 'utensils', 'cake_server', 'butter_knives', 'plastic_spoon', 'dinnerware', 'plastic_knife', 'Sporks', 'steak_knives', 'Spoons', 'serveware',  ],\n",
        "  'fruits': [ 'Bananas', 'Oranges', 'Cranberries', 'Nectarines', 'Plums', 'Grapes', 'Grapefruit', 'Papayas', 'Peaches', 'Raspberries', 'Strawberries', 'Pears', 'Pineapple', 'Lemons', 'Blueberries', 'Tangerines', 'Mangos', 'Figs', 'Cherries', 'Melons', 'Apricots', 'Mixed', 'Apples',  ],\n",
        "  'snacks': [ 'Mints_bag', 'Fruit_Snacks', 'Vegetable_Chips_&_Crisps', 'Marshmallows_bag', 'bubble_gum_brand', 'Cookies', 'Sour_Candy_bag', 'Hard_Candy_snacks', 'potato_Crisps', 'Candy_Bars', 'snacks_Seeds', 'Pretzels', 'Chewing_Gum_brand', 'Jelly_Beans_bag', 'potato_chips_pringles', 'Assorted_Snack_Cookies', 'Lollipops', 'Breadsticks', 'Gummy_Candy_bag', 'Potato_Chips_bag', 'Fruit_Cups', 'Puffed_Snacks', 'Nuts_snacks', 'Crackers', 'Party_Mix_snack', 'Popcorn',  ],\n",
        "  'food': [ 'Olives_jar', 'pasta_sides', 'rice_sides', 'jarred_vegetables', 'Muesli_box', 'instant_ramen_noodles', 'canned_sardines', 'pickled_vegetables', 'Packaged_Bread', 'Oatmeal_box', 'noodle_soup_cup', 'Fruit_Butters', 'canned_tuna', 'Jams', 'Nut_&_Seed_Butter', 'Honey', 'canned_vegetables', 'Marmalades', 'Cereals_box', 'canned_soup', 'instant_Soup', 'Macaroni_&_Cheese_box',  ],\n",
        "  'cleaning_stuff': [ 'Paper_Towels', 'Floor_Cleaners', 'Carpet_Cleaners', 'Sponges', 'Glass_Cleaners', 'Furniture_&_Wood_Polishes', 'Metal_Polishes', 'Broom_Handles_&_Heads', 'Latex_Gloves', 'Hand_Brooms', 'Push_Brooms', 'Caddies', 'All-Purpose_Cleaners', 'Wet_Mops', 'Brushes', 'Cloths_&_Wipes', 'Mop_Handles', 'Bathroom_Cleaners', 'Carpet_Spot_Cleaning_Sprays', 'Angle_Brooms', 'Mop_Heads_&_Sponges', 'Dust_Cloths', 'Drain_Openers', 'Dust_Mops_&_Pads', 'Carpet_Stain_Precleaners', 'Carpet_Machine_Detergents', 'Carpet_Deodorizers', 'Vinyl_Gloves', 'Upholstery_Cleaners', 'Refill_Sponges', 'Feather_Dusters', 'Squeegees', 'Buckets', 'Nitrile_Gloves', 'Dustpans', 'Replacement_Heads', 'Kitchen_Cleaners',  ]\n",
        "}\n",
        "\n",
        "\n",
        "import random\n",
        "\n",
        "# Put your matricola number here (replacing ERROR)\n",
        "matricola = ERROR\n",
        "\n",
        "random.seed(matricola)\n",
        "\n",
        "for k in labels.keys():\n",
        "  #print(labels[k])\n",
        "  tl = random.choice(list(labels[k]))\n",
        "  print(\"%s/%s\" %(k,tl))\n"
      ],
      "execution_count": null,
      "outputs": []
    }
  ]
}